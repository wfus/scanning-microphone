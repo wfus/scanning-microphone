{
 "cells": [
  {
   "cell_type": "markdown",
   "metadata": {
    "colab_type": "text",
    "id": "Mm9a_gZFOUbR"
   },
   "source": [
    "# Processing for Scanning Microphone\n",
    "\n"
   ]
  },
  {
   "cell_type": "markdown",
   "metadata": {
    "colab_type": "text",
    "id": "LJMk40cSP8sh"
   },
   "source": [
    "Once we get our audio recording, we need postprocessing to know when the CNC microphone as \"stopped\", and at which point it stopped. We __do not__ want to analyze audio while moving, as the CNC control is loud and we have no location information."
   ]
  },
  {
   "cell_type": "code",
   "execution_count": 6,
   "metadata": {
    "colab": {
     "base_uri": "https://localhost:8080/",
     "height": 86
    },
    "colab_type": "code",
    "executionInfo": {
     "elapsed": 12093,
     "status": "ok",
     "timestamp": 1539889972248,
     "user": {
      "displayName": "William Fu",
      "photoUrl": "",
      "userId": "09104213338603958993"
     },
     "user_tz": 240
    },
    "id": "yTYiIrPTPVth",
    "outputId": "62d7eb44-b77f-44e8-baac-29ba121b6ad0"
   },
   "outputs": [],
   "source": [
    "!pip install librosa > /dev/null\n",
    "!pip install plotly > /dev/null\n",
    "import librosa\n",
    "import numpy as np\n",
    "from matplotlib import pyplot as plt\n",
    "import plotly\n",
    "from plotly.offline import iplot\n",
    "import plotly.graph_objs as go\n",
    "%matplotlib inline"
   ]
  },
  {
   "cell_type": "markdown",
   "metadata": {},
   "source": [
    "You only need to mount the google colab drive if you want to access sound samples stored in Google Drive."
   ]
  },
  {
   "cell_type": "code",
   "execution_count": null,
   "metadata": {
    "colab": {
     "base_uri": "https://localhost:8080/",
     "height": 124
    },
    "colab_type": "code",
    "executionInfo": {
     "elapsed": 27743,
     "status": "ok",
     "timestamp": 1539716715391,
     "user": {
      "displayName": "William Fu",
      "photoUrl": "",
      "userId": "09104213338603958993"
     },
     "user_tz": 240
    },
    "id": "GLexnBmsOVdD",
    "outputId": "1d129512-09e4-4b7e-e0dc-2cab038be0aa"
   },
   "outputs": [],
   "source": [
    "from google.colab import drive\n",
    "drive.mount('/content/gdrive')"
   ]
  },
  {
   "cell_type": "markdown",
   "metadata": {
    "colab_type": "text",
    "id": "K2RYxK4MOiCP"
   },
   "source": [
    "## Analyzing Simple Frequency\n",
    "\n",
    "Secibd test consisted of using the __TAZ LULZBOT 5__ recorded with the small microphone Science Center 102. The small microphone attaches through the audio jack on the desktop computer. The sound was emitted through an Apple Airpod connected through the audio jack as well, taped to the baseplate to keep it secured. Sound was played for one hour with frequency $2000$ Hz using the command:\n",
    "\n",
    "```bash\n",
    "play -n -c1 synth 3600 sine 2000\n",
    "```\n",
    "\n",
    "Scan Parameters:\n",
    "\n",
    "* (0, 0) to (100, 100)\n",
    "* around 2cm vertical distance between sound source and microphone\n",
    "* 1 second record time at each point\n",
    "* resolution of 2 for both $x$ and $y$\n",
    "* Only capturing sound when the motor is __not__ moving\n",
    "\n",
    "In this test, we moved in the pattern\n",
    "\n",
    "```\n",
    "51  102  ...  2601\n",
    ".   .    ...   .\n",
    ".   .    ...   .\n",
    ".   .    ...   .\n",
    "2   53   ...  2551\n",
    "1   52   ...  2550\n",
    "```\n",
    "\n",
    "Using these parameters, we will sample a total of $51 \\cdot 51$ points."
   ]
  },
  {
   "cell_type": "markdown",
   "metadata": {},
   "source": [
    "### Data Format\n",
    "\n",
    "Since we have now been able to control the CNC machine through python, we now have already segmented out each of the sampled locations in code. Therefore, the results of one scan will be stored in folder `<int(time.time())>`, and each sound clip in that folder will look like `<x>_<y>_<z>.wav`. We will want a function that preprocesses each separate audio file and returns our analysis as well as the $(x, y, z)$ spatial coordinate so we can combine all of these measurements together at the end."
   ]
  },
  {
   "cell_type": "code",
   "execution_count": 1,
   "metadata": {},
   "outputs": [],
   "source": [
    "import glob\n",
    "import os\n",
    "import sys"
   ]
  },
  {
   "cell_type": "code",
   "execution_count": 4,
   "metadata": {},
   "outputs": [
    {
     "data": {
      "text/plain": [
       "2601"
      ]
     },
     "execution_count": 4,
     "metadata": {},
     "output_type": "execute_result"
    }
   ],
   "source": [
    "sample_files = glob.glob(\"/home/robocup/hoffman/scanning-microphone/data/1540965226/*.wav\")\n",
    "len(sample_files)"
   ]
  },
  {
   "cell_type": "markdown",
   "metadata": {},
   "source": [
    "Let's just load one of these into memory as a sanity check before we process them all."
   ]
  },
  {
   "cell_type": "code",
   "execution_count": 14,
   "metadata": {
    "colab": {},
    "colab_type": "code",
    "id": "ojRyRSXDRCa6"
   },
   "outputs": [
    {
     "name": "stdout",
     "output_type": "stream",
     "text": [
      "Audio Waveform shape:  (43008,)\n",
      "Sampling Rate:  44100\n"
     ]
    }
   ],
   "source": [
    "y, sr = librosa.core.load(sample_files[0], sr=None)\n",
    "print('Audio Waveform shape: ', y.shape)\n",
    "print('Sampling Rate: ', sr)\n",
    "n_seconds = y.shape[0] / sr"
   ]
  },
  {
   "cell_type": "code",
   "execution_count": 25,
   "metadata": {
    "colab": {
     "base_uri": "https://localhost:8080/",
     "height": 69
    },
    "colab_type": "code",
    "executionInfo": {
     "elapsed": 10093,
     "status": "ok",
     "timestamp": 1539887605170,
     "user": {
      "displayName": "William Fu",
      "photoUrl": "",
      "userId": "09104213338603958993"
     },
     "user_tz": 240
    },
    "id": "o3vJB-MiniSd",
    "outputId": "8776b834-68b5-4c65-8ef4-47dd78a3299a"
   },
   "outputs": [
    {
     "name": "stdout",
     "output_type": "stream",
     "text": [
      "(1025, 85)\n",
      "[0.00000000e+00 1.07666016e+01 2.15332031e+01 ... 1.10034668e+04\n",
      " 1.10142334e+04 1.10250000e+04]\n"
     ]
    }
   ],
   "source": [
    "fft = librosa.core.stft(y)\n",
    "fft_mag = np.abs(fft)\n",
    "print(fft.shape)\n",
    "# Prints out bin number to frequency\n",
    "print(librosa.core.fft_frequencies())"
   ]
  },
  {
   "cell_type": "markdown",
   "metadata": {
    "colab_type": "text",
    "id": "O7OVGj6irc10"
   },
   "source": [
    "Plotting the actual spectrogram is usually pretty helpful. Since we played the audio signal at 2000 Hz we see a large band there and a faint band at the harmonic, most likely due to the fact that the speaker used as an Apple Airpod and hardware errors."
   ]
  },
  {
   "cell_type": "code",
   "execution_count": 26,
   "metadata": {
    "colab": {
     "base_uri": "https://localhost:8080/",
     "height": 233
    },
    "colab_type": "code",
    "executionInfo": {
     "elapsed": 875,
     "status": "ok",
     "timestamp": 1539887639140,
     "user": {
      "displayName": "William Fu",
      "photoUrl": "",
      "userId": "09104213338603958993"
     },
     "user_tz": 240
    },
    "id": "rMQrlGkLn04F",
    "outputId": "96ca012c-53d4-4782-e372-ab13f5bfc653"
   },
   "outputs": [
    {
     "data": {
      "image/png": "[encoded data removed]",
      "text/plain": [
       "<Figure size 1080x864 with 1 Axes>"
      ]
     },
     "metadata": {
      "needs_background": "light"
     },
     "output_type": "display_data"
    }
   ],
   "source": [
    "fig = plt.figure(figsize=(15, 12))\n",
    "plt.xlabel('Sample')\n",
    "plt.imshow(fft_mag[:200])\n",
    "plt.show()"
   ]
  },
  {
   "cell_type": "markdown",
   "metadata": {
    "colab_type": "text",
    "id": "JH-oAGNYd1_N"
   },
   "source": [
    "The larger hump there is when the motor has to scan more distance to get to the start of the next row."
   ]
  },
  {
   "cell_type": "code",
   "execution_count": 61,
   "metadata": {
    "colab": {
     "base_uri": "https://localhost:8080/",
     "height": 52
    },
    "colab_type": "code",
    "executionInfo": {
     "elapsed": 129,
     "status": "ok",
     "timestamp": 1539875344421,
     "user": {
      "displayName": "William Fu",
      "photoUrl": "",
      "userId": "09104213338603958993"
     },
     "user_tz": 240
    },
    "id": "HCrjZfSWuNOK",
    "outputId": "7500a01c-57c3-41a6-f2a1-3ec3981f6b38"
   },
   "outputs": [
    {
     "name": "stdout",
     "output_type": "stream",
     "text": [
      "Freq at bin 80:  1991.8212890625\n",
      "Freq at bin 100:  2013.3544921875\n"
     ]
    }
   ],
   "source": [
    "print(\"Freq at bin 80: \", librosa.core.fft_frequencies()[185])\n",
    "print(\"Freq at bin 100: \", librosa.core.fft_frequencies()[187])"
   ]
  },
  {
   "cell_type": "markdown",
   "metadata": {},
   "source": [
    "Therefore, we can first see the amplitude changes between different samples at the frequency bins 80-100. We can just directly take the mean of these bins in our absolute valued fourier transform. Let's actually make a function to do this."
   ]
  },
  {
   "cell_type": "code",
   "execution_count": 62,
   "metadata": {},
   "outputs": [],
   "source": [
    "def amplitude_check(fname, start_bin, end_bin):\n",
    "    \"\"\"Gets the averaged amplitudes from start_bin to end_bin in the fourier transform\"\"\"\n",
    "    y, sr = librosa.core.load(fname, sr=None)\n",
    "    # print('Audio Waveform shape: ', y.shape)\n",
    "    # print('Sampling Rate: ', sr)\n",
    "    fft = librosa.core.stft(y)\n",
    "    fft_mag = np.abs(fft)\n",
    "    \n",
    "    # Actually take the \n",
    "    average_binned_mag = fft_mag[start_bin:end_bin, :].mean()\n",
    "    return average_binned_mag"
   ]
  },
  {
   "cell_type": "code",
   "execution_count": 63,
   "metadata": {},
   "outputs": [],
   "source": [
    "def file2coords(fname):\n",
    "    \"\"\"Converts a file name to coordinates. Should be in the format\n",
    "        <folder>/<x>_<y>_<z>.wav\n",
    "    \"\"\"\n",
    "    _, name = os.path.split(fname)\n",
    "    x, y, z = os.path.splitext(name)[0].split('_')\n",
    "    x = float(x)\n",
    "    y = float(y)\n",
    "    z = float(z)\n",
    "    return x, y, z"
   ]
  },
  {
   "cell_type": "code",
   "execution_count": 64,
   "metadata": {},
   "outputs": [
    {
     "name": "stdout",
     "output_type": "stream",
     "text": [
      "Processed 0 samples\n",
      "Processed 500 samples\n",
      "Processed 1000 samples\n",
      "Processed 1500 samples\n",
      "Processed 2000 samples\n",
      "Processed 2500 samples\n"
     ]
    }
   ],
   "source": [
    "# store an array of tuples (x, y, amplitude)\n",
    "ampdata = []\n",
    "for index, sfname in enumerate(sample_files):\n",
    "    if index % 500 == 0:\n",
    "        print(\"Processed {} samples\".format(index))\n",
    "    x, y, _ = file2coords(sfname)\n",
    "    amp = amplitude_check(sfname, 185, 187)\n",
    "    ampdata.append((x, y, amp))"
   ]
  },
  {
   "cell_type": "markdown",
   "metadata": {
    "colab_type": "text",
    "id": "41iARqj6EDyl"
   },
   "source": [
    "## Generating a Heatmap\n",
    "\n",
    "The real test is to generate a heatmap of frequency strengths, with each point in 3D space scanned and analyzed. We will use the previous code to split the recorded sample into each of the separate points, and then plot the magnitude of certain frequencies on a 2D plot.\n",
    "\n",
    "__There's probably a much better way to turn the scan into a matrix. Haven't leetcoded enough__"
   ]
  },
  {
   "cell_type": "code",
   "execution_count": 65,
   "metadata": {},
   "outputs": [],
   "source": [
    "# Get all of the unique x and y indices that could happen in our scan\n",
    "x_indices = sorted(list(set([a[0] for a in ampdata])))\n",
    "y_indices = sorted(list(set([a[1] for a in ampdata])))\n",
    "\n",
    "# Now make a map of tuples to the amplitude value\n",
    "ampmap = {}\n",
    "for x, y, amp in ampdata:\n",
    "    ampmap[(x, y)] = amp\n",
    "\n",
    "# Turn it back into a numpy array\n",
    "ampmat = np.zeros((len(x_indices), len(y_indices)))\n",
    "for idx, x in enumerate(x_indices):\n",
    "    for idy, y in enumerate(y_indices):\n",
    "        ampmat[idx][idy] = ampmap[(x, y)]"
   ]
  },
  {
   "cell_type": "code",
   "execution_count": 66,
   "metadata": {
    "colab": {
     "base_uri": "https://localhost:8080/",
     "height": 460
    },
    "colab_type": "code",
    "executionInfo": {
     "elapsed": 347,
     "status": "ok",
     "timestamp": 1539896009843,
     "user": {
      "displayName": "William Fu",
      "photoUrl": "",
      "userId": "09104213338603958993"
     },
     "user_tz": 240
    },
    "id": "qcxHNoVpor9M",
    "outputId": "157b7c6c-5bb8-4272-d79c-e2b94912713f"
   },
   "outputs": [
    {
     "data": {
      "image/png": "[encoded data removed]",
      "text/plain": [
       "<Figure size 648x648 with 1 Axes>"
      ]
     },
     "metadata": {
      "needs_background": "light"
     },
     "output_type": "display_data"
    }
   ],
   "source": [
    "fig = plt.figure(figsize=(9,9))\n",
    "plt.imshow(ampmat)\n",
    "plt.xlabel('Horizontal Position (res=2)')\n",
    "plt.ylabel('Vertical Position (res=2)')\n",
    "plt.title('Magnitude of $f = 2000$ Hz on a 2D plane')\n",
    "plt.show()"
   ]
  },
  {
   "cell_type": "markdown",
   "metadata": {
    "colab": {},
    "colab_type": "code",
    "id": "1pqakCAGqJVV"
   },
   "source": [
    "### Generating a Heatmap for 3D scans\n",
    "\n",
    "We can do the exact same thing for 3D scans. However, now we are going to have a $z$ axis element. We'll just print out slices of the $z$ axis element for now. We can consider using 3D visualizations with seaborn or matplotlib later but those are usually pretty difficult to decipher."
   ]
  },
  {
   "cell_type": "code",
   "execution_count": 124,
   "metadata": {},
   "outputs": [],
   "source": [
    "sample_files_3d = glob.glob(\"/home/robocup/hoffman/scanning-microphone/data/1541048727/*.wav\")"
   ]
  },
  {
   "cell_type": "code",
   "execution_count": 125,
   "metadata": {},
   "outputs": [
    {
     "name": "stdout",
     "output_type": "stream",
     "text": [
      "Processed 0 samples\n",
      "Processed 500 samples\n",
      "Processed 1000 samples\n",
      "Processed 1500 samples\n",
      "Processed 2000 samples\n",
      "Processed 2500 samples\n",
      "Processed 3000 samples\n",
      "Processed 3500 samples\n",
      "Processed 4000 samples\n",
      "Processed 4500 samples\n",
      "Processed 5000 samples\n",
      "Processed 5500 samples\n",
      "Processed 6000 samples\n",
      "Processed 6500 samples\n",
      "Processed 7000 samples\n",
      "Processed 7500 samples\n"
     ]
    }
   ],
   "source": [
    "ampdata3D = []\n",
    "for index, sfname in enumerate(sample_files_3d):\n",
    "    if index % 500 == 0:\n",
    "        print(\"Processed {} samples\".format(index))\n",
    "    x, y, z = file2coords(sfname)\n",
    "    amp = amplitude_check(sfname, 185, 187)\n",
    "    ampdata3D.append((x, y, z, amp))"
   ]
  },
  {
   "cell_type": "code",
   "execution_count": 126,
   "metadata": {},
   "outputs": [],
   "source": [
    "# Get all of the unique x and y indices that could happen in our scan\n",
    "x_indices = sorted(list(set([a[0] for a in ampdata3D])))\n",
    "y_indices = sorted(list(set([a[1] for a in ampdata3D])))\n",
    "z_indices = sorted(list(set([a[2] for a in ampdata3D])))\n",
    "# Now make a map of tuples to the amplitude value\n",
    "ampmap3D = {}\n",
    "for x, y, z, amp in ampdata3D:\n",
    "    ampmap3D[(x, y, z)] = amp\n",
    "\n",
    "# Turn it back into a numpy array\n",
    "ampmat3D = np.zeros((len(x_indices), len(y_indices), len(z_indices)))\n",
    "for idx, x in enumerate(x_indices):\n",
    "    for idy, y in enumerate(y_indices):\n",
    "        for idz, z in enumerate(z_indices):\n",
    "            ampmat3D[idx][idy][idz] = ampmap3D[(x, y, z)]"
   ]
  },
  {
   "cell_type": "markdown",
   "metadata": {},
   "source": [
    "We will plot each slice corresponding to each $z$ value in one plot. In this specific case, we scanned a $11 \\times 11 \\times 11$ cube so we can arrange this into $3 \\times 4$ grid. First for fun we can slice by the $x$ coordinate and see slices of the $yz$ plane."
   ]
  },
  {
   "cell_type": "code",
   "execution_count": 134,
   "metadata": {},
   "outputs": [
    {
     "data": {
      "image/png": "[encoded data removed]",
      "text/plain": [
       "<Figure size 792x1800 with 3 Axes>"
      ]
     },
     "metadata": {
      "needs_background": "light"
     },
     "output_type": "display_data"
    }
   ],
   "source": [
    "fig = plt.figure(figsize=(11,25))\n",
    "for index in range(len(z_indices)):\n",
    "    plt.subplot(len(z_indices),1, index + 1)\n",
    "    plt.pcolor(ampmat3D[:,:,index], vmin=ampmat3D.min(), vmax=ampmat3D.max(), cmap='magma')\n",
    "    plt.gca().set_aspect('equal', adjustable='box')\n",
    "plt.show()"
   ]
  },
  {
   "cell_type": "code",
   "execution_count": null,
   "metadata": {},
   "outputs": [],
   "source": []
  }
 ],
 "metadata": {
  "colab": {
   "name": "FirstAudioAnalysis.ipynb",
   "provenance": [],
   "version": "0.3.2"
  },
  "kernelspec": {
   "display_name": "Python 3",
   "language": "python",
   "name": "python3"
  },
  "language_info": {
   "codemirror_mode": {
    "name": "ipython",
    "version": 3
   },
   "file_extension": ".py",
   "mimetype": "text/x-python",
   "name": "python",
   "nbconvert_exporter": "python",
   "pygments_lexer": "ipython3",
   "version": "3.6.7"
  }
 },
 "nbformat": 4,
 "nbformat_minor": 1
}
