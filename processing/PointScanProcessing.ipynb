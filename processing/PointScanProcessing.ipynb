{
 "cells": [
  {
   "cell_type": "code",
   "execution_count": 1,
   "metadata": {},
   "outputs": [],
   "source": [
    "import os\n",
    "import pickle\n",
    "import glob\n",
    "import skimage\n",
    "import numpy as np\n",
    "from matplotlib import pyplot as plt\n",
    "%matplotlib inline"
   ]
  },
  {
   "cell_type": "code",
   "execution_count": 2,
   "metadata": {},
   "outputs": [],
   "source": [
    "def get_data(data_dir, sample_start=0, sample_end=100):\n",
    "    fnames = list(sorted(glob.glob(os.path.join(data_dir, \"*.pkl\"))))\n",
    "    \n",
    "    print('Found %s records' % len(fnames))\n",
    "    # Load into a list of tuples of xmin, xmax, y, data\n",
    "    data = []\n",
    "    XMIN = None\n",
    "    XMAX = None\n",
    "    for fname in fnames:\n",
    "        with open(fname, 'rb') as f:\n",
    "            fft_data = pickle.load(f)\n",
    "\n",
    "        # Isolate the frequency. In our case, 28kHz is usually around sample 8000 to 10000\n",
    "        amplitudes = fft_data[:, sample_start:sample_end].max(axis=1)\n",
    "\n",
    "        name = os.path.basename(fname).replace('.pkl', '').replace('continuous_', '')\n",
    "        coords = [float(coord) for coord in name.split('_')]\n",
    "        xmin, xmax, y = coords\n",
    "        XMIN = xmin\n",
    "        XMAX = xmax\n",
    "        data.append((xmin, xmax, y, amplitudes))\n",
    "        \n",
    "    # Sort by y coordinate (xmin and xmax are expected to be the same for all)\n",
    "    data = list(sorted(data))\n",
    "    if not data:\n",
    "        raise RuntimeError('No Data Found')\n",
    "        \n",
    "    # Just get the amplitudes and stack them on each other to form an image\n",
    "    ampdata = [d[-1] for d in data]\n",
    "\n",
    "    # Get the minimum size of any of these, so we can interpolate to a fixed array length\n",
    "    target_size = np.median(np.array([len(x) for x in ampdata]))\n",
    "    print('Median number of records in continguous strip: %s' % str(target_size))\n",
    "    resized_ampdata = [np.interp(np.linspace(XMIN, XMAX, target_size),\n",
    "                                 np.linspace(XMIN, XMAX, len(d)), d)\n",
    "                       for d in ampdata]\n",
    "    resized_ampdata = np.array(resized_ampdata)\n",
    "\n",
    "    return resized_ampdata"
   ]
  },
  {
   "cell_type": "code",
   "execution_count": null,
   "metadata": {},
   "outputs": [],
   "source": [
    "get_data('../data/1551236003')"
   ]
  }
 ],
 "metadata": {
  "kernelspec": {
   "display_name": "Python 3",
   "language": "python",
   "name": "python3"
  },
  "language_info": {
   "codemirror_mode": {
    "name": "ipython",
    "version": 3
   },
   "file_extension": ".py",
   "mimetype": "text/x-python",
   "name": "python",
   "nbconvert_exporter": "python",
   "pygments_lexer": "ipython3",
   "version": "3.6.7"
  }
 },
 "nbformat": 4,
 "nbformat_minor": 2
}
